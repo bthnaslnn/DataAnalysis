{
 "cells": [
  {
   "cell_type": "code",
   "execution_count": 122,
   "id": "26a94880",
   "metadata": {},
   "outputs": [],
   "source": [
    "import pandas as pd #Pandas kütüphanesini import etttik"
   ]
  },
  {
   "cell_type": "code",
   "execution_count": 123,
   "id": "d0156f34",
   "metadata": {},
   "outputs": [],
   "source": [
    "vs=pd.read_csv(\"spotify.csv\") #üzerinde işlem yapacağımız veri data setini çektik"
   ]
  },
  {
   "cell_type": "code",
   "execution_count": 124,
   "id": "e6d51503",
   "metadata": {
    "scrolled": true
   },
   "outputs": [
    {
     "data": {
      "text/html": [
       "<div>\n",
       "<style scoped>\n",
       "    .dataframe tbody tr th:only-of-type {\n",
       "        vertical-align: middle;\n",
       "    }\n",
       "\n",
       "    .dataframe tbody tr th {\n",
       "        vertical-align: top;\n",
       "    }\n",
       "\n",
       "    .dataframe thead th {\n",
       "        text-align: right;\n",
       "    }\n",
       "</style>\n",
       "<table border=\"1\" class=\"dataframe\">\n",
       "  <thead>\n",
       "    <tr style=\"text-align: right;\">\n",
       "      <th></th>\n",
       "      <th>Time_submitted</th>\n",
       "      <th>Review</th>\n",
       "      <th>Rating</th>\n",
       "      <th>Total_thumbsup</th>\n",
       "      <th>Reply</th>\n",
       "    </tr>\n",
       "  </thead>\n",
       "  <tbody>\n",
       "    <tr>\n",
       "      <th>0</th>\n",
       "      <td>2022-07-09 15:00:00</td>\n",
       "      <td>Great music service, the audio is high quality...</td>\n",
       "      <td>5</td>\n",
       "      <td>2</td>\n",
       "      <td>NaN</td>\n",
       "    </tr>\n",
       "    <tr>\n",
       "      <th>1</th>\n",
       "      <td>2022-07-09 14:21:22</td>\n",
       "      <td>Please ignore previous negative rating. This a...</td>\n",
       "      <td>5</td>\n",
       "      <td>1</td>\n",
       "      <td>NaN</td>\n",
       "    </tr>\n",
       "    <tr>\n",
       "      <th>2</th>\n",
       "      <td>2022-07-09 13:27:32</td>\n",
       "      <td>This pop-up \"Get the best Spotify experience o...</td>\n",
       "      <td>4</td>\n",
       "      <td>0</td>\n",
       "      <td>NaN</td>\n",
       "    </tr>\n",
       "    <tr>\n",
       "      <th>3</th>\n",
       "      <td>2022-07-09 13:26:45</td>\n",
       "      <td>Really buggy and terrible to use as of recently</td>\n",
       "      <td>1</td>\n",
       "      <td>1</td>\n",
       "      <td>NaN</td>\n",
       "    </tr>\n",
       "    <tr>\n",
       "      <th>4</th>\n",
       "      <td>2022-07-09 13:20:49</td>\n",
       "      <td>Dear Spotify why do I get songs that I didn't ...</td>\n",
       "      <td>1</td>\n",
       "      <td>1</td>\n",
       "      <td>NaN</td>\n",
       "    </tr>\n",
       "  </tbody>\n",
       "</table>\n",
       "</div>"
      ],
      "text/plain": [
       "        Time_submitted                                             Review  \\\n",
       "0  2022-07-09 15:00:00  Great music service, the audio is high quality...   \n",
       "1  2022-07-09 14:21:22  Please ignore previous negative rating. This a...   \n",
       "2  2022-07-09 13:27:32  This pop-up \"Get the best Spotify experience o...   \n",
       "3  2022-07-09 13:26:45    Really buggy and terrible to use as of recently   \n",
       "4  2022-07-09 13:20:49  Dear Spotify why do I get songs that I didn't ...   \n",
       "\n",
       "   Rating  Total_thumbsup Reply  \n",
       "0       5               2   NaN  \n",
       "1       5               1   NaN  \n",
       "2       4               0   NaN  \n",
       "3       1               1   NaN  \n",
       "4       1               1   NaN  "
      ]
     },
     "execution_count": 124,
     "metadata": {},
     "output_type": "execute_result"
    }
   ],
   "source": [
    "vs.head() #datasetin ilk 5 hanesini karşımıza çıkarttık"
   ]
  },
  {
   "cell_type": "code",
   "execution_count": 125,
   "id": "6a49521d",
   "metadata": {
    "scrolled": false
   },
   "outputs": [
    {
     "data": {
      "text/html": [
       "<div>\n",
       "<style scoped>\n",
       "    .dataframe tbody tr th:only-of-type {\n",
       "        vertical-align: middle;\n",
       "    }\n",
       "\n",
       "    .dataframe tbody tr th {\n",
       "        vertical-align: top;\n",
       "    }\n",
       "\n",
       "    .dataframe thead th {\n",
       "        text-align: right;\n",
       "    }\n",
       "</style>\n",
       "<table border=\"1\" class=\"dataframe\">\n",
       "  <thead>\n",
       "    <tr style=\"text-align: right;\">\n",
       "      <th></th>\n",
       "      <th>Time_submitted</th>\n",
       "      <th>Review</th>\n",
       "      <th>Rating</th>\n",
       "      <th>Total_thumbsup</th>\n",
       "      <th>Reply</th>\n",
       "    </tr>\n",
       "  </thead>\n",
       "  <tbody>\n",
       "    <tr>\n",
       "      <th>61584</th>\n",
       "      <td>2022-01-01 05:24:00</td>\n",
       "      <td>Keeps putting songs I've hidden in my suggeste...</td>\n",
       "      <td>1</td>\n",
       "      <td>37</td>\n",
       "      <td>NaN</td>\n",
       "    </tr>\n",
       "    <tr>\n",
       "      <th>61585</th>\n",
       "      <td>2022-01-01 04:44:43</td>\n",
       "      <td>I can't use the app properly. It's not working...</td>\n",
       "      <td>3</td>\n",
       "      <td>2</td>\n",
       "      <td>NaN</td>\n",
       "    </tr>\n",
       "    <tr>\n",
       "      <th>61586</th>\n",
       "      <td>2022-01-01 04:41:44</td>\n",
       "      <td>One day I was able to switch between songs and...</td>\n",
       "      <td>1</td>\n",
       "      <td>0</td>\n",
       "      <td>NaN</td>\n",
       "    </tr>\n",
       "    <tr>\n",
       "      <th>61587</th>\n",
       "      <td>2022-01-01 04:35:47</td>\n",
       "      <td>It was my favourite app. I feel sorry for arti...</td>\n",
       "      <td>1</td>\n",
       "      <td>7</td>\n",
       "      <td>NaN</td>\n",
       "    </tr>\n",
       "    <tr>\n",
       "      <th>61588</th>\n",
       "      <td>2022-01-01 03:49:27</td>\n",
       "      <td>Back to one frkng star. First of all there's t...</td>\n",
       "      <td>1</td>\n",
       "      <td>14</td>\n",
       "      <td>NaN</td>\n",
       "    </tr>\n",
       "    <tr>\n",
       "      <th>61589</th>\n",
       "      <td>2022-01-01 03:01:29</td>\n",
       "      <td>Even though it was communicated that lyrics fe...</td>\n",
       "      <td>1</td>\n",
       "      <td>6</td>\n",
       "      <td>NaN</td>\n",
       "    </tr>\n",
       "    <tr>\n",
       "      <th>61590</th>\n",
       "      <td>2022-01-01 02:13:40</td>\n",
       "      <td>Use to be sooo good back when I had it, and wh...</td>\n",
       "      <td>1</td>\n",
       "      <td>0</td>\n",
       "      <td>NaN</td>\n",
       "    </tr>\n",
       "    <tr>\n",
       "      <th>61591</th>\n",
       "      <td>2022-01-01 01:02:29</td>\n",
       "      <td>This app would be good if not for it taking ov...</td>\n",
       "      <td>2</td>\n",
       "      <td>10</td>\n",
       "      <td>NaN</td>\n",
       "    </tr>\n",
       "    <tr>\n",
       "      <th>61592</th>\n",
       "      <td>2022-01-01 00:49:23</td>\n",
       "      <td>The app is good hard to navigate and won't jus...</td>\n",
       "      <td>2</td>\n",
       "      <td>1</td>\n",
       "      <td>NaN</td>\n",
       "    </tr>\n",
       "    <tr>\n",
       "      <th>61593</th>\n",
       "      <td>2022-01-01 00:19:09</td>\n",
       "      <td>Its good but sometimes it doesnt load the musi...</td>\n",
       "      <td>4</td>\n",
       "      <td>0</td>\n",
       "      <td>NaN</td>\n",
       "    </tr>\n",
       "  </tbody>\n",
       "</table>\n",
       "</div>"
      ],
      "text/plain": [
       "            Time_submitted                                             Review  \\\n",
       "61584  2022-01-01 05:24:00  Keeps putting songs I've hidden in my suggeste...   \n",
       "61585  2022-01-01 04:44:43  I can't use the app properly. It's not working...   \n",
       "61586  2022-01-01 04:41:44  One day I was able to switch between songs and...   \n",
       "61587  2022-01-01 04:35:47  It was my favourite app. I feel sorry for arti...   \n",
       "61588  2022-01-01 03:49:27  Back to one frkng star. First of all there's t...   \n",
       "61589  2022-01-01 03:01:29  Even though it was communicated that lyrics fe...   \n",
       "61590  2022-01-01 02:13:40  Use to be sooo good back when I had it, and wh...   \n",
       "61591  2022-01-01 01:02:29  This app would be good if not for it taking ov...   \n",
       "61592  2022-01-01 00:49:23  The app is good hard to navigate and won't jus...   \n",
       "61593  2022-01-01 00:19:09  Its good but sometimes it doesnt load the musi...   \n",
       "\n",
       "       Rating  Total_thumbsup Reply  \n",
       "61584       1              37   NaN  \n",
       "61585       3               2   NaN  \n",
       "61586       1               0   NaN  \n",
       "61587       1               7   NaN  \n",
       "61588       1              14   NaN  \n",
       "61589       1               6   NaN  \n",
       "61590       1               0   NaN  \n",
       "61591       2              10   NaN  \n",
       "61592       2               1   NaN  \n",
       "61593       4               0   NaN  "
      ]
     },
     "execution_count": 125,
     "metadata": {},
     "output_type": "execute_result"
    }
   ],
   "source": [
    "vs.tail(10) #datasetin son 10 hanesini karşımıza çıkarttık"
   ]
  },
  {
   "cell_type": "code",
   "execution_count": 126,
   "id": "60083e06",
   "metadata": {},
   "outputs": [
    {
     "data": {
      "text/plain": [
       "(61594, 5)"
      ]
     },
     "execution_count": 126,
     "metadata": {},
     "output_type": "execute_result"
    }
   ],
   "source": [
    "vs.shape #datasetimizin kaç satır ve kaç sütundan oluştuğunu öğrendik"
   ]
  },
  {
   "cell_type": "code",
   "execution_count": 127,
   "id": "0bc742ef",
   "metadata": {},
   "outputs": [
    {
     "data": {
      "text/plain": [
       "Time_submitted    object\n",
       "Review            object\n",
       "Rating             int64\n",
       "Total_thumbsup     int64\n",
       "Reply             object\n",
       "dtype: object"
      ]
     },
     "execution_count": 127,
     "metadata": {},
     "output_type": "execute_result"
    }
   ],
   "source": [
    "vs.dtypes  #datasetimiz içerisindeki değişkenlerin tipini görmek istiyorsak"
   ]
  },
  {
   "cell_type": "code",
   "execution_count": 128,
   "id": "6b831eba",
   "metadata": {},
   "outputs": [
    {
     "data": {
      "text/html": [
       "<div>\n",
       "<style scoped>\n",
       "    .dataframe tbody tr th:only-of-type {\n",
       "        vertical-align: middle;\n",
       "    }\n",
       "\n",
       "    .dataframe tbody tr th {\n",
       "        vertical-align: top;\n",
       "    }\n",
       "\n",
       "    .dataframe thead th {\n",
       "        text-align: right;\n",
       "    }\n",
       "</style>\n",
       "<table border=\"1\" class=\"dataframe\">\n",
       "  <thead>\n",
       "    <tr style=\"text-align: right;\">\n",
       "      <th></th>\n",
       "      <th>Time_submitted</th>\n",
       "      <th>Review</th>\n",
       "      <th>Rating</th>\n",
       "      <th>Total_thumbsup</th>\n",
       "      <th>Reply</th>\n",
       "    </tr>\n",
       "  </thead>\n",
       "  <tbody>\n",
       "    <tr>\n",
       "      <th>0</th>\n",
       "      <td>False</td>\n",
       "      <td>False</td>\n",
       "      <td>False</td>\n",
       "      <td>False</td>\n",
       "      <td>True</td>\n",
       "    </tr>\n",
       "    <tr>\n",
       "      <th>1</th>\n",
       "      <td>False</td>\n",
       "      <td>False</td>\n",
       "      <td>False</td>\n",
       "      <td>False</td>\n",
       "      <td>True</td>\n",
       "    </tr>\n",
       "    <tr>\n",
       "      <th>2</th>\n",
       "      <td>False</td>\n",
       "      <td>False</td>\n",
       "      <td>False</td>\n",
       "      <td>False</td>\n",
       "      <td>True</td>\n",
       "    </tr>\n",
       "    <tr>\n",
       "      <th>3</th>\n",
       "      <td>False</td>\n",
       "      <td>False</td>\n",
       "      <td>False</td>\n",
       "      <td>False</td>\n",
       "      <td>True</td>\n",
       "    </tr>\n",
       "    <tr>\n",
       "      <th>4</th>\n",
       "      <td>False</td>\n",
       "      <td>False</td>\n",
       "      <td>False</td>\n",
       "      <td>False</td>\n",
       "      <td>True</td>\n",
       "    </tr>\n",
       "    <tr>\n",
       "      <th>...</th>\n",
       "      <td>...</td>\n",
       "      <td>...</td>\n",
       "      <td>...</td>\n",
       "      <td>...</td>\n",
       "      <td>...</td>\n",
       "    </tr>\n",
       "    <tr>\n",
       "      <th>61589</th>\n",
       "      <td>False</td>\n",
       "      <td>False</td>\n",
       "      <td>False</td>\n",
       "      <td>False</td>\n",
       "      <td>True</td>\n",
       "    </tr>\n",
       "    <tr>\n",
       "      <th>61590</th>\n",
       "      <td>False</td>\n",
       "      <td>False</td>\n",
       "      <td>False</td>\n",
       "      <td>False</td>\n",
       "      <td>True</td>\n",
       "    </tr>\n",
       "    <tr>\n",
       "      <th>61591</th>\n",
       "      <td>False</td>\n",
       "      <td>False</td>\n",
       "      <td>False</td>\n",
       "      <td>False</td>\n",
       "      <td>True</td>\n",
       "    </tr>\n",
       "    <tr>\n",
       "      <th>61592</th>\n",
       "      <td>False</td>\n",
       "      <td>False</td>\n",
       "      <td>False</td>\n",
       "      <td>False</td>\n",
       "      <td>True</td>\n",
       "    </tr>\n",
       "    <tr>\n",
       "      <th>61593</th>\n",
       "      <td>False</td>\n",
       "      <td>False</td>\n",
       "      <td>False</td>\n",
       "      <td>False</td>\n",
       "      <td>True</td>\n",
       "    </tr>\n",
       "  </tbody>\n",
       "</table>\n",
       "<p>61594 rows × 5 columns</p>\n",
       "</div>"
      ],
      "text/plain": [
       "       Time_submitted  Review  Rating  Total_thumbsup  Reply\n",
       "0               False   False   False           False   True\n",
       "1               False   False   False           False   True\n",
       "2               False   False   False           False   True\n",
       "3               False   False   False           False   True\n",
       "4               False   False   False           False   True\n",
       "...               ...     ...     ...             ...    ...\n",
       "61589           False   False   False           False   True\n",
       "61590           False   False   False           False   True\n",
       "61591           False   False   False           False   True\n",
       "61592           False   False   False           False   True\n",
       "61593           False   False   False           False   True\n",
       "\n",
       "[61594 rows x 5 columns]"
      ]
     },
     "execution_count": 128,
     "metadata": {},
     "output_type": "execute_result"
    }
   ],
   "source": [
    "vs.isnull() #datasetimiz içerisindeki eksik verileri görmek için (mantıksal değer döndürür)"
   ]
  },
  {
   "cell_type": "code",
   "execution_count": 129,
   "id": "95b9b813",
   "metadata": {},
   "outputs": [
    {
     "data": {
      "text/plain": [
       "Time_submitted        0\n",
       "Review                0\n",
       "Rating                0\n",
       "Total_thumbsup        0\n",
       "Reply             61378\n",
       "dtype: int64"
      ]
     },
     "execution_count": 129,
     "metadata": {},
     "output_type": "execute_result"
    }
   ],
   "source": [
    "vs.isnull().sum() #her bir satırdaki eksik verilerin toplam sayısını görmek için\n"
   ]
  },
  {
   "cell_type": "code",
   "execution_count": 130,
   "id": "c14f55ff",
   "metadata": {},
   "outputs": [
    {
     "data": {
      "text/plain": [
       "0    Great music service, the audio is high quality...\n",
       "1    Please ignore previous negative rating. This a...\n",
       "2    This pop-up \"Get the best Spotify experience o...\n",
       "3      Really buggy and terrible to use as of recently\n",
       "4    Dear Spotify why do I get songs that I didn't ...\n",
       "Name: Review, dtype: object"
      ]
     },
     "execution_count": 130,
     "metadata": {},
     "output_type": "execute_result"
    }
   ],
   "source": [
    "vs.Review.head() #dataframedeki Review sütununa ulaştık ve ilk 5 satırını gördük"
   ]
  },
  {
   "cell_type": "code",
   "execution_count": 131,
   "id": "7507cfb6",
   "metadata": {},
   "outputs": [
    {
     "data": {
      "text/plain": [
       "Index(['Time_submitted', 'Review', 'Rating', 'Total_thumbsup', 'Reply'], dtype='object')"
      ]
     },
     "execution_count": 131,
     "metadata": {},
     "output_type": "execute_result"
    }
   ],
   "source": [
    "vs.columns #sütun indexleri karşımıza gelmiş oldu"
   ]
  },
  {
   "cell_type": "code",
   "execution_count": 132,
   "id": "48db4164",
   "metadata": {},
   "outputs": [
    {
     "data": {
      "text/plain": [
       "0    2\n",
       "1    1\n",
       "2    0\n",
       "3    1\n",
       "4    1\n",
       "Name: Total_thumbsup, dtype: int64"
      ]
     },
     "execution_count": 132,
     "metadata": {},
     "output_type": "execute_result"
    }
   ],
   "source": [
    "vs[\"Total_thumbsup\"].head() #total thumbsup sütunununun ilk 5 satırını görmüş olduk"
   ]
  },
  {
   "cell_type": "code",
   "execution_count": 133,
   "id": "fb0d4e45",
   "metadata": {},
   "outputs": [
    {
     "data": {
      "text/html": [
       "<div>\n",
       "<style scoped>\n",
       "    .dataframe tbody tr th:only-of-type {\n",
       "        vertical-align: middle;\n",
       "    }\n",
       "\n",
       "    .dataframe tbody tr th {\n",
       "        vertical-align: top;\n",
       "    }\n",
       "\n",
       "    .dataframe thead th {\n",
       "        text-align: right;\n",
       "    }\n",
       "</style>\n",
       "<table border=\"1\" class=\"dataframe\">\n",
       "  <thead>\n",
       "    <tr style=\"text-align: right;\">\n",
       "      <th></th>\n",
       "      <th>Review</th>\n",
       "      <th>Rating</th>\n",
       "    </tr>\n",
       "  </thead>\n",
       "  <tbody>\n",
       "    <tr>\n",
       "      <th>0</th>\n",
       "      <td>Great music service, the audio is high quality...</td>\n",
       "      <td>5</td>\n",
       "    </tr>\n",
       "    <tr>\n",
       "      <th>1</th>\n",
       "      <td>Please ignore previous negative rating. This a...</td>\n",
       "      <td>5</td>\n",
       "    </tr>\n",
       "    <tr>\n",
       "      <th>2</th>\n",
       "      <td>This pop-up \"Get the best Spotify experience o...</td>\n",
       "      <td>4</td>\n",
       "    </tr>\n",
       "    <tr>\n",
       "      <th>3</th>\n",
       "      <td>Really buggy and terrible to use as of recently</td>\n",
       "      <td>1</td>\n",
       "    </tr>\n",
       "    <tr>\n",
       "      <th>4</th>\n",
       "      <td>Dear Spotify why do I get songs that I didn't ...</td>\n",
       "      <td>1</td>\n",
       "    </tr>\n",
       "  </tbody>\n",
       "</table>\n",
       "</div>"
      ],
      "text/plain": [
       "                                              Review  Rating\n",
       "0  Great music service, the audio is high quality...       5\n",
       "1  Please ignore previous negative rating. This a...       5\n",
       "2  This pop-up \"Get the best Spotify experience o...       4\n",
       "3    Really buggy and terrible to use as of recently       1\n",
       "4  Dear Spotify why do I get songs that I didn't ...       1"
      ]
     },
     "execution_count": 133,
     "metadata": {},
     "output_type": "execute_result"
    }
   ],
   "source": [
    "vs[[\"Review\",\"Rating\"]].head() #herhangi istediğimiz iki sütünun ilk 5 er satırlarını yan yana ekrana getirebiliyoruz"
   ]
  },
  {
   "cell_type": "code",
   "execution_count": 134,
   "id": "c11c6c27",
   "metadata": {},
   "outputs": [
    {
     "data": {
      "text/html": [
       "<div>\n",
       "<style scoped>\n",
       "    .dataframe tbody tr th:only-of-type {\n",
       "        vertical-align: middle;\n",
       "    }\n",
       "\n",
       "    .dataframe tbody tr th {\n",
       "        vertical-align: top;\n",
       "    }\n",
       "\n",
       "    .dataframe thead th {\n",
       "        text-align: right;\n",
       "    }\n",
       "</style>\n",
       "<table border=\"1\" class=\"dataframe\">\n",
       "  <thead>\n",
       "    <tr style=\"text-align: right;\">\n",
       "      <th></th>\n",
       "      <th>GönderilenZaman</th>\n",
       "      <th>Geridönüt</th>\n",
       "      <th>Puanlama</th>\n",
       "      <th>Toplam_begeni</th>\n",
       "      <th>Yanıtlar</th>\n",
       "    </tr>\n",
       "  </thead>\n",
       "  <tbody>\n",
       "    <tr>\n",
       "      <th>0</th>\n",
       "      <td>2022-07-09 15:00:00</td>\n",
       "      <td>Great music service, the audio is high quality...</td>\n",
       "      <td>5</td>\n",
       "      <td>2</td>\n",
       "      <td>NaN</td>\n",
       "    </tr>\n",
       "    <tr>\n",
       "      <th>1</th>\n",
       "      <td>2022-07-09 14:21:22</td>\n",
       "      <td>Please ignore previous negative rating. This a...</td>\n",
       "      <td>5</td>\n",
       "      <td>1</td>\n",
       "      <td>NaN</td>\n",
       "    </tr>\n",
       "    <tr>\n",
       "      <th>2</th>\n",
       "      <td>2022-07-09 13:27:32</td>\n",
       "      <td>This pop-up \"Get the best Spotify experience o...</td>\n",
       "      <td>4</td>\n",
       "      <td>0</td>\n",
       "      <td>NaN</td>\n",
       "    </tr>\n",
       "    <tr>\n",
       "      <th>3</th>\n",
       "      <td>2022-07-09 13:26:45</td>\n",
       "      <td>Really buggy and terrible to use as of recently</td>\n",
       "      <td>1</td>\n",
       "      <td>1</td>\n",
       "      <td>NaN</td>\n",
       "    </tr>\n",
       "    <tr>\n",
       "      <th>4</th>\n",
       "      <td>2022-07-09 13:20:49</td>\n",
       "      <td>Dear Spotify why do I get songs that I didn't ...</td>\n",
       "      <td>1</td>\n",
       "      <td>1</td>\n",
       "      <td>NaN</td>\n",
       "    </tr>\n",
       "    <tr>\n",
       "      <th>...</th>\n",
       "      <td>...</td>\n",
       "      <td>...</td>\n",
       "      <td>...</td>\n",
       "      <td>...</td>\n",
       "      <td>...</td>\n",
       "    </tr>\n",
       "    <tr>\n",
       "      <th>61589</th>\n",
       "      <td>2022-01-01 03:01:29</td>\n",
       "      <td>Even though it was communicated that lyrics fe...</td>\n",
       "      <td>1</td>\n",
       "      <td>6</td>\n",
       "      <td>NaN</td>\n",
       "    </tr>\n",
       "    <tr>\n",
       "      <th>61590</th>\n",
       "      <td>2022-01-01 02:13:40</td>\n",
       "      <td>Use to be sooo good back when I had it, and wh...</td>\n",
       "      <td>1</td>\n",
       "      <td>0</td>\n",
       "      <td>NaN</td>\n",
       "    </tr>\n",
       "    <tr>\n",
       "      <th>61591</th>\n",
       "      <td>2022-01-01 01:02:29</td>\n",
       "      <td>This app would be good if not for it taking ov...</td>\n",
       "      <td>2</td>\n",
       "      <td>10</td>\n",
       "      <td>NaN</td>\n",
       "    </tr>\n",
       "    <tr>\n",
       "      <th>61592</th>\n",
       "      <td>2022-01-01 00:49:23</td>\n",
       "      <td>The app is good hard to navigate and won't jus...</td>\n",
       "      <td>2</td>\n",
       "      <td>1</td>\n",
       "      <td>NaN</td>\n",
       "    </tr>\n",
       "    <tr>\n",
       "      <th>61593</th>\n",
       "      <td>2022-01-01 00:19:09</td>\n",
       "      <td>Its good but sometimes it doesnt load the musi...</td>\n",
       "      <td>4</td>\n",
       "      <td>0</td>\n",
       "      <td>NaN</td>\n",
       "    </tr>\n",
       "  </tbody>\n",
       "</table>\n",
       "<p>61594 rows × 5 columns</p>\n",
       "</div>"
      ],
      "text/plain": [
       "           GönderilenZaman                                          Geridönüt  \\\n",
       "0      2022-07-09 15:00:00  Great music service, the audio is high quality...   \n",
       "1      2022-07-09 14:21:22  Please ignore previous negative rating. This a...   \n",
       "2      2022-07-09 13:27:32  This pop-up \"Get the best Spotify experience o...   \n",
       "3      2022-07-09 13:26:45    Really buggy and terrible to use as of recently   \n",
       "4      2022-07-09 13:20:49  Dear Spotify why do I get songs that I didn't ...   \n",
       "...                    ...                                                ...   \n",
       "61589  2022-01-01 03:01:29  Even though it was communicated that lyrics fe...   \n",
       "61590  2022-01-01 02:13:40  Use to be sooo good back when I had it, and wh...   \n",
       "61591  2022-01-01 01:02:29  This app would be good if not for it taking ov...   \n",
       "61592  2022-01-01 00:49:23  The app is good hard to navigate and won't jus...   \n",
       "61593  2022-01-01 00:19:09  Its good but sometimes it doesnt load the musi...   \n",
       "\n",
       "       Puanlama  Toplam_begeni Yanıtlar  \n",
       "0             5              2      NaN  \n",
       "1             5              1      NaN  \n",
       "2             4              0      NaN  \n",
       "3             1              1      NaN  \n",
       "4             1              1      NaN  \n",
       "...         ...            ...      ...  \n",
       "61589         1              6      NaN  \n",
       "61590         1              0      NaN  \n",
       "61591         2             10      NaN  \n",
       "61592         2              1      NaN  \n",
       "61593         4              0      NaN  \n",
       "\n",
       "[61594 rows x 5 columns]"
      ]
     },
     "execution_count": 134,
     "metadata": {},
     "output_type": "execute_result"
    }
   ],
   "source": [
    "vs.rename(columns={\"Time_submitted\":\"GönderilenZaman\",\"Review\":\"Geridönüt\",\"Rating\":\"Puanlama\",\"Total_thumbsup\":\"Toplam_begeni\",\"Reply\":\"Yanıtlar\"}) #sütunların ismini değiştirebiliyoruz"
   ]
  },
  {
   "cell_type": "code",
   "execution_count": 135,
   "id": "0bc3d4ac",
   "metadata": {},
   "outputs": [
    {
     "data": {
      "text/html": [
       "<div>\n",
       "<style scoped>\n",
       "    .dataframe tbody tr th:only-of-type {\n",
       "        vertical-align: middle;\n",
       "    }\n",
       "\n",
       "    .dataframe tbody tr th {\n",
       "        vertical-align: top;\n",
       "    }\n",
       "\n",
       "    .dataframe thead th {\n",
       "        text-align: right;\n",
       "    }\n",
       "</style>\n",
       "<table border=\"1\" class=\"dataframe\">\n",
       "  <thead>\n",
       "    <tr style=\"text-align: right;\">\n",
       "      <th></th>\n",
       "      <th>Time_submitted</th>\n",
       "      <th>Review</th>\n",
       "      <th>Rating</th>\n",
       "      <th>Total_thumbsup</th>\n",
       "      <th>Reply</th>\n",
       "    </tr>\n",
       "  </thead>\n",
       "  <tbody>\n",
       "    <tr>\n",
       "      <th>0</th>\n",
       "      <td>2022-07-09 15:00:00</td>\n",
       "      <td>Great music service, the audio is high quality...</td>\n",
       "      <td>5</td>\n",
       "      <td>2</td>\n",
       "      <td>NaN</td>\n",
       "    </tr>\n",
       "    <tr>\n",
       "      <th>1</th>\n",
       "      <td>2022-07-09 14:21:22</td>\n",
       "      <td>Please ignore previous negative rating. This a...</td>\n",
       "      <td>5</td>\n",
       "      <td>1</td>\n",
       "      <td>NaN</td>\n",
       "    </tr>\n",
       "    <tr>\n",
       "      <th>2</th>\n",
       "      <td>2022-07-09 13:27:32</td>\n",
       "      <td>This pop-up \"Get the best Spotify experience o...</td>\n",
       "      <td>4</td>\n",
       "      <td>0</td>\n",
       "      <td>NaN</td>\n",
       "    </tr>\n",
       "    <tr>\n",
       "      <th>3</th>\n",
       "      <td>2022-07-09 13:26:45</td>\n",
       "      <td>Really buggy and terrible to use as of recently</td>\n",
       "      <td>1</td>\n",
       "      <td>1</td>\n",
       "      <td>NaN</td>\n",
       "    </tr>\n",
       "    <tr>\n",
       "      <th>4</th>\n",
       "      <td>2022-07-09 13:20:49</td>\n",
       "      <td>Dear Spotify why do I get songs that I didn't ...</td>\n",
       "      <td>1</td>\n",
       "      <td>1</td>\n",
       "      <td>NaN</td>\n",
       "    </tr>\n",
       "    <tr>\n",
       "      <th>...</th>\n",
       "      <td>...</td>\n",
       "      <td>...</td>\n",
       "      <td>...</td>\n",
       "      <td>...</td>\n",
       "      <td>...</td>\n",
       "    </tr>\n",
       "    <tr>\n",
       "      <th>61589</th>\n",
       "      <td>2022-01-01 03:01:29</td>\n",
       "      <td>Even though it was communicated that lyrics fe...</td>\n",
       "      <td>1</td>\n",
       "      <td>6</td>\n",
       "      <td>NaN</td>\n",
       "    </tr>\n",
       "    <tr>\n",
       "      <th>61590</th>\n",
       "      <td>2022-01-01 02:13:40</td>\n",
       "      <td>Use to be sooo good back when I had it, and wh...</td>\n",
       "      <td>1</td>\n",
       "      <td>0</td>\n",
       "      <td>NaN</td>\n",
       "    </tr>\n",
       "    <tr>\n",
       "      <th>61591</th>\n",
       "      <td>2022-01-01 01:02:29</td>\n",
       "      <td>This app would be good if not for it taking ov...</td>\n",
       "      <td>2</td>\n",
       "      <td>10</td>\n",
       "      <td>NaN</td>\n",
       "    </tr>\n",
       "    <tr>\n",
       "      <th>61592</th>\n",
       "      <td>2022-01-01 00:49:23</td>\n",
       "      <td>The app is good hard to navigate and won't jus...</td>\n",
       "      <td>2</td>\n",
       "      <td>1</td>\n",
       "      <td>NaN</td>\n",
       "    </tr>\n",
       "    <tr>\n",
       "      <th>61593</th>\n",
       "      <td>2022-01-01 00:19:09</td>\n",
       "      <td>Its good but sometimes it doesnt load the musi...</td>\n",
       "      <td>4</td>\n",
       "      <td>0</td>\n",
       "      <td>NaN</td>\n",
       "    </tr>\n",
       "  </tbody>\n",
       "</table>\n",
       "<p>61594 rows × 5 columns</p>\n",
       "</div>"
      ],
      "text/plain": [
       "            Time_submitted                                             Review  \\\n",
       "0      2022-07-09 15:00:00  Great music service, the audio is high quality...   \n",
       "1      2022-07-09 14:21:22  Please ignore previous negative rating. This a...   \n",
       "2      2022-07-09 13:27:32  This pop-up \"Get the best Spotify experience o...   \n",
       "3      2022-07-09 13:26:45    Really buggy and terrible to use as of recently   \n",
       "4      2022-07-09 13:20:49  Dear Spotify why do I get songs that I didn't ...   \n",
       "...                    ...                                                ...   \n",
       "61589  2022-01-01 03:01:29  Even though it was communicated that lyrics fe...   \n",
       "61590  2022-01-01 02:13:40  Use to be sooo good back when I had it, and wh...   \n",
       "61591  2022-01-01 01:02:29  This app would be good if not for it taking ov...   \n",
       "61592  2022-01-01 00:49:23  The app is good hard to navigate and won't jus...   \n",
       "61593  2022-01-01 00:19:09  Its good but sometimes it doesnt load the musi...   \n",
       "\n",
       "       Rating  Total_thumbsup Reply  \n",
       "0           5               2   NaN  \n",
       "1           5               1   NaN  \n",
       "2           4               0   NaN  \n",
       "3           1               1   NaN  \n",
       "4           1               1   NaN  \n",
       "...       ...             ...   ...  \n",
       "61589       1               6   NaN  \n",
       "61590       1               0   NaN  \n",
       "61591       2              10   NaN  \n",
       "61592       2               1   NaN  \n",
       "61593       4               0   NaN  \n",
       "\n",
       "[61594 rows x 5 columns]"
      ]
     },
     "execution_count": 135,
     "metadata": {},
     "output_type": "execute_result"
    }
   ],
   "source": [
    "vs #datasetimizi görüntüleyelim"
   ]
  },
  {
   "cell_type": "code",
   "execution_count": 136,
   "id": "b8755adb",
   "metadata": {},
   "outputs": [],
   "source": [
    "vs.rename(columns={\"Time_submitted\":\"GönderilenZaman\",\"Review\":\"Geridönüt\",\"Rating\":\"Puanlama\",\"Total_thumbsup\":\"Toplam_begeni\",\"Reply\":\"Yanıtlar\"},inplace=True)#kalıcı şekilde değiştirmek istiyorsak inplace=True komutunu eklememiz gerekebilir."
   ]
  },
  {
   "cell_type": "code",
   "execution_count": 137,
   "id": "d8e8e8b8",
   "metadata": {},
   "outputs": [
    {
     "data": {
      "text/html": [
       "<div>\n",
       "<style scoped>\n",
       "    .dataframe tbody tr th:only-of-type {\n",
       "        vertical-align: middle;\n",
       "    }\n",
       "\n",
       "    .dataframe tbody tr th {\n",
       "        vertical-align: top;\n",
       "    }\n",
       "\n",
       "    .dataframe thead th {\n",
       "        text-align: right;\n",
       "    }\n",
       "</style>\n",
       "<table border=\"1\" class=\"dataframe\">\n",
       "  <thead>\n",
       "    <tr style=\"text-align: right;\">\n",
       "      <th></th>\n",
       "      <th>GönderilenZaman</th>\n",
       "      <th>Geridönüt</th>\n",
       "      <th>Puanlama</th>\n",
       "      <th>Toplam_begeni</th>\n",
       "      <th>Yanıtlar</th>\n",
       "    </tr>\n",
       "  </thead>\n",
       "  <tbody>\n",
       "    <tr>\n",
       "      <th>0</th>\n",
       "      <td>2022-07-09 15:00:00</td>\n",
       "      <td>Great music service, the audio is high quality...</td>\n",
       "      <td>5</td>\n",
       "      <td>2</td>\n",
       "      <td>NaN</td>\n",
       "    </tr>\n",
       "    <tr>\n",
       "      <th>1</th>\n",
       "      <td>2022-07-09 14:21:22</td>\n",
       "      <td>Please ignore previous negative rating. This a...</td>\n",
       "      <td>5</td>\n",
       "      <td>1</td>\n",
       "      <td>NaN</td>\n",
       "    </tr>\n",
       "    <tr>\n",
       "      <th>2</th>\n",
       "      <td>2022-07-09 13:27:32</td>\n",
       "      <td>This pop-up \"Get the best Spotify experience o...</td>\n",
       "      <td>4</td>\n",
       "      <td>0</td>\n",
       "      <td>NaN</td>\n",
       "    </tr>\n",
       "    <tr>\n",
       "      <th>3</th>\n",
       "      <td>2022-07-09 13:26:45</td>\n",
       "      <td>Really buggy and terrible to use as of recently</td>\n",
       "      <td>1</td>\n",
       "      <td>1</td>\n",
       "      <td>NaN</td>\n",
       "    </tr>\n",
       "    <tr>\n",
       "      <th>4</th>\n",
       "      <td>2022-07-09 13:20:49</td>\n",
       "      <td>Dear Spotify why do I get songs that I didn't ...</td>\n",
       "      <td>1</td>\n",
       "      <td>1</td>\n",
       "      <td>NaN</td>\n",
       "    </tr>\n",
       "    <tr>\n",
       "      <th>...</th>\n",
       "      <td>...</td>\n",
       "      <td>...</td>\n",
       "      <td>...</td>\n",
       "      <td>...</td>\n",
       "      <td>...</td>\n",
       "    </tr>\n",
       "    <tr>\n",
       "      <th>61589</th>\n",
       "      <td>2022-01-01 03:01:29</td>\n",
       "      <td>Even though it was communicated that lyrics fe...</td>\n",
       "      <td>1</td>\n",
       "      <td>6</td>\n",
       "      <td>NaN</td>\n",
       "    </tr>\n",
       "    <tr>\n",
       "      <th>61590</th>\n",
       "      <td>2022-01-01 02:13:40</td>\n",
       "      <td>Use to be sooo good back when I had it, and wh...</td>\n",
       "      <td>1</td>\n",
       "      <td>0</td>\n",
       "      <td>NaN</td>\n",
       "    </tr>\n",
       "    <tr>\n",
       "      <th>61591</th>\n",
       "      <td>2022-01-01 01:02:29</td>\n",
       "      <td>This app would be good if not for it taking ov...</td>\n",
       "      <td>2</td>\n",
       "      <td>10</td>\n",
       "      <td>NaN</td>\n",
       "    </tr>\n",
       "    <tr>\n",
       "      <th>61592</th>\n",
       "      <td>2022-01-01 00:49:23</td>\n",
       "      <td>The app is good hard to navigate and won't jus...</td>\n",
       "      <td>2</td>\n",
       "      <td>1</td>\n",
       "      <td>NaN</td>\n",
       "    </tr>\n",
       "    <tr>\n",
       "      <th>61593</th>\n",
       "      <td>2022-01-01 00:19:09</td>\n",
       "      <td>Its good but sometimes it doesnt load the musi...</td>\n",
       "      <td>4</td>\n",
       "      <td>0</td>\n",
       "      <td>NaN</td>\n",
       "    </tr>\n",
       "  </tbody>\n",
       "</table>\n",
       "<p>61594 rows × 5 columns</p>\n",
       "</div>"
      ],
      "text/plain": [
       "           GönderilenZaman                                          Geridönüt  \\\n",
       "0      2022-07-09 15:00:00  Great music service, the audio is high quality...   \n",
       "1      2022-07-09 14:21:22  Please ignore previous negative rating. This a...   \n",
       "2      2022-07-09 13:27:32  This pop-up \"Get the best Spotify experience o...   \n",
       "3      2022-07-09 13:26:45    Really buggy and terrible to use as of recently   \n",
       "4      2022-07-09 13:20:49  Dear Spotify why do I get songs that I didn't ...   \n",
       "...                    ...                                                ...   \n",
       "61589  2022-01-01 03:01:29  Even though it was communicated that lyrics fe...   \n",
       "61590  2022-01-01 02:13:40  Use to be sooo good back when I had it, and wh...   \n",
       "61591  2022-01-01 01:02:29  This app would be good if not for it taking ov...   \n",
       "61592  2022-01-01 00:49:23  The app is good hard to navigate and won't jus...   \n",
       "61593  2022-01-01 00:19:09  Its good but sometimes it doesnt load the musi...   \n",
       "\n",
       "       Puanlama  Toplam_begeni Yanıtlar  \n",
       "0             5              2      NaN  \n",
       "1             5              1      NaN  \n",
       "2             4              0      NaN  \n",
       "3             1              1      NaN  \n",
       "4             1              1      NaN  \n",
       "...         ...            ...      ...  \n",
       "61589         1              6      NaN  \n",
       "61590         1              0      NaN  \n",
       "61591         2             10      NaN  \n",
       "61592         2              1      NaN  \n",
       "61593         4              0      NaN  \n",
       "\n",
       "[61594 rows x 5 columns]"
      ]
     },
     "execution_count": 137,
     "metadata": {},
     "output_type": "execute_result"
    }
   ],
   "source": [
    "vs #datasetimizi yaptığımız değişikliklerden sonra tekraradan görüntüleyelim"
   ]
  },
  {
   "cell_type": "code",
   "execution_count": 138,
   "id": "95314ce9",
   "metadata": {},
   "outputs": [
    {
     "data": {
      "text/plain": [
       "GönderilenZaman                                  2022-07-09 15:00:00\n",
       "Geridönüt          Great music service, the audio is high quality...\n",
       "Puanlama                                                           5\n",
       "Toplam_begeni                                                      2\n",
       "Yanıtlar                                                         NaN\n",
       "Name: 0, dtype: object"
      ]
     },
     "execution_count": 138,
     "metadata": {},
     "output_type": "execute_result"
    }
   ],
   "source": [
    "vs.iloc[0]"
   ]
  },
  {
   "cell_type": "code",
   "execution_count": 139,
   "id": "cc295756",
   "metadata": {},
   "outputs": [
    {
     "data": {
      "text/plain": [
       "'2022-07-09 15:00:00'"
      ]
     },
     "execution_count": 139,
     "metadata": {},
     "output_type": "execute_result"
    }
   ],
   "source": [
    "vs.iloc[0,0]"
   ]
  },
  {
   "cell_type": "code",
   "execution_count": 140,
   "id": "1e28bb85",
   "metadata": {},
   "outputs": [
    {
     "data": {
      "text/plain": [
       "Geridönüt        Great music service, the audio is high quality...\n",
       "Toplam_begeni                                                    2\n",
       "Yanıtlar                                                       NaN\n",
       "Name: 0, dtype: object"
      ]
     },
     "execution_count": 140,
     "metadata": {},
     "output_type": "execute_result"
    }
   ],
   "source": [
    "vs.iloc[0,[1,3,4]] #birden fazla sütun seçmek istersek yandaki gibi girebiliyoruız"
   ]
  },
  {
   "cell_type": "code",
   "execution_count": 141,
   "id": "06b27c5b",
   "metadata": {},
   "outputs": [
    {
     "data": {
      "text/html": [
       "<div>\n",
       "<style scoped>\n",
       "    .dataframe tbody tr th:only-of-type {\n",
       "        vertical-align: middle;\n",
       "    }\n",
       "\n",
       "    .dataframe tbody tr th {\n",
       "        vertical-align: top;\n",
       "    }\n",
       "\n",
       "    .dataframe thead th {\n",
       "        text-align: right;\n",
       "    }\n",
       "</style>\n",
       "<table border=\"1\" class=\"dataframe\">\n",
       "  <thead>\n",
       "    <tr style=\"text-align: right;\">\n",
       "      <th></th>\n",
       "      <th>Geridönüt</th>\n",
       "      <th>Toplam_begeni</th>\n",
       "      <th>Yanıtlar</th>\n",
       "    </tr>\n",
       "  </thead>\n",
       "  <tbody>\n",
       "    <tr>\n",
       "      <th>0</th>\n",
       "      <td>Great music service, the audio is high quality...</td>\n",
       "      <td>2</td>\n",
       "      <td>NaN</td>\n",
       "    </tr>\n",
       "    <tr>\n",
       "      <th>1</th>\n",
       "      <td>Please ignore previous negative rating. This a...</td>\n",
       "      <td>1</td>\n",
       "      <td>NaN</td>\n",
       "    </tr>\n",
       "    <tr>\n",
       "      <th>2</th>\n",
       "      <td>This pop-up \"Get the best Spotify experience o...</td>\n",
       "      <td>0</td>\n",
       "      <td>NaN</td>\n",
       "    </tr>\n",
       "    <tr>\n",
       "      <th>3</th>\n",
       "      <td>Really buggy and terrible to use as of recently</td>\n",
       "      <td>1</td>\n",
       "      <td>NaN</td>\n",
       "    </tr>\n",
       "    <tr>\n",
       "      <th>4</th>\n",
       "      <td>Dear Spotify why do I get songs that I didn't ...</td>\n",
       "      <td>1</td>\n",
       "      <td>NaN</td>\n",
       "    </tr>\n",
       "  </tbody>\n",
       "</table>\n",
       "</div>"
      ],
      "text/plain": [
       "                                           Geridönüt  Toplam_begeni Yanıtlar\n",
       "0  Great music service, the audio is high quality...              2      NaN\n",
       "1  Please ignore previous negative rating. This a...              1      NaN\n",
       "2  This pop-up \"Get the best Spotify experience o...              0      NaN\n",
       "3    Really buggy and terrible to use as of recently              1      NaN\n",
       "4  Dear Spotify why do I get songs that I didn't ...              1      NaN"
      ]
     },
     "execution_count": 141,
     "metadata": {},
     "output_type": "execute_result"
    }
   ],
   "source": [
    "vs.iloc[0:5,[1,3,4]] #5.indexe kadar olan satırlar yazıldı"
   ]
  },
  {
   "cell_type": "code",
   "execution_count": 142,
   "id": "0cd0a397",
   "metadata": {},
   "outputs": [
    {
     "data": {
      "text/html": [
       "<div>\n",
       "<style scoped>\n",
       "    .dataframe tbody tr th:only-of-type {\n",
       "        vertical-align: middle;\n",
       "    }\n",
       "\n",
       "    .dataframe tbody tr th {\n",
       "        vertical-align: top;\n",
       "    }\n",
       "\n",
       "    .dataframe thead th {\n",
       "        text-align: right;\n",
       "    }\n",
       "</style>\n",
       "<table border=\"1\" class=\"dataframe\">\n",
       "  <thead>\n",
       "    <tr style=\"text-align: right;\">\n",
       "      <th></th>\n",
       "      <th>Geridönüt</th>\n",
       "      <th>Puanlama</th>\n",
       "      <th>Toplam_begeni</th>\n",
       "    </tr>\n",
       "  </thead>\n",
       "  <tbody>\n",
       "    <tr>\n",
       "      <th>0</th>\n",
       "      <td>Great music service, the audio is high quality...</td>\n",
       "      <td>5</td>\n",
       "      <td>2</td>\n",
       "    </tr>\n",
       "    <tr>\n",
       "      <th>1</th>\n",
       "      <td>Please ignore previous negative rating. This a...</td>\n",
       "      <td>5</td>\n",
       "      <td>1</td>\n",
       "    </tr>\n",
       "    <tr>\n",
       "      <th>2</th>\n",
       "      <td>This pop-up \"Get the best Spotify experience o...</td>\n",
       "      <td>4</td>\n",
       "      <td>0</td>\n",
       "    </tr>\n",
       "    <tr>\n",
       "      <th>3</th>\n",
       "      <td>Really buggy and terrible to use as of recently</td>\n",
       "      <td>1</td>\n",
       "      <td>1</td>\n",
       "    </tr>\n",
       "    <tr>\n",
       "      <th>4</th>\n",
       "      <td>Dear Spotify why do I get songs that I didn't ...</td>\n",
       "      <td>1</td>\n",
       "      <td>1</td>\n",
       "    </tr>\n",
       "  </tbody>\n",
       "</table>\n",
       "</div>"
      ],
      "text/plain": [
       "                                           Geridönüt  Puanlama  Toplam_begeni\n",
       "0  Great music service, the audio is high quality...         5              2\n",
       "1  Please ignore previous negative rating. This a...         5              1\n",
       "2  This pop-up \"Get the best Spotify experience o...         4              0\n",
       "3    Really buggy and terrible to use as of recently         1              1\n",
       "4  Dear Spotify why do I get songs that I didn't ...         1              1"
      ]
     },
     "execution_count": 142,
     "metadata": {},
     "output_type": "execute_result"
    }
   ],
   "source": [
    "vs.iloc[0:5,1:4] #bu şekilde de satırlarda da aynı işlemi uygulayabiliriz"
   ]
  },
  {
   "cell_type": "code",
   "execution_count": 143,
   "id": "f1d22582",
   "metadata": {},
   "outputs": [
    {
     "data": {
      "text/plain": [
       "'Please ignore previous negative rating. This app is super great. I give it five stars+'"
      ]
     },
     "execution_count": 143,
     "metadata": {},
     "output_type": "execute_result"
    }
   ],
   "source": [
    "vs.loc[1,\"Geridönüt\"] #Geridönüt sütununun 1.satırını bize olduğu gibi yazdırdı"
   ]
  },
  {
   "cell_type": "code",
   "execution_count": 144,
   "id": "5ef14f70",
   "metadata": {},
   "outputs": [
    {
     "data": {
      "text/html": [
       "<div>\n",
       "<style scoped>\n",
       "    .dataframe tbody tr th:only-of-type {\n",
       "        vertical-align: middle;\n",
       "    }\n",
       "\n",
       "    .dataframe tbody tr th {\n",
       "        vertical-align: top;\n",
       "    }\n",
       "\n",
       "    .dataframe thead th {\n",
       "        text-align: right;\n",
       "    }\n",
       "</style>\n",
       "<table border=\"1\" class=\"dataframe\">\n",
       "  <thead>\n",
       "    <tr style=\"text-align: right;\">\n",
       "      <th></th>\n",
       "      <th>GönderilenZaman</th>\n",
       "      <th>Geridönüt</th>\n",
       "      <th>Puanlama</th>\n",
       "      <th>Toplam_begeni</th>\n",
       "      <th>Yanıtlar</th>\n",
       "    </tr>\n",
       "  </thead>\n",
       "  <tbody>\n",
       "    <tr>\n",
       "      <th>1</th>\n",
       "      <td>2022-07-09 14:21:22</td>\n",
       "      <td>Please ignore previous negative rating. This a...</td>\n",
       "      <td>5</td>\n",
       "      <td>1</td>\n",
       "      <td>NaN</td>\n",
       "    </tr>\n",
       "    <tr>\n",
       "      <th>2</th>\n",
       "      <td>2022-07-09 13:27:32</td>\n",
       "      <td>This pop-up \"Get the best Spotify experience o...</td>\n",
       "      <td>4</td>\n",
       "      <td>0</td>\n",
       "      <td>NaN</td>\n",
       "    </tr>\n",
       "    <tr>\n",
       "      <th>3</th>\n",
       "      <td>2022-07-09 13:26:45</td>\n",
       "      <td>Really buggy and terrible to use as of recently</td>\n",
       "      <td>1</td>\n",
       "      <td>1</td>\n",
       "      <td>NaN</td>\n",
       "    </tr>\n",
       "    <tr>\n",
       "      <th>4</th>\n",
       "      <td>2022-07-09 13:20:49</td>\n",
       "      <td>Dear Spotify why do I get songs that I didn't ...</td>\n",
       "      <td>1</td>\n",
       "      <td>1</td>\n",
       "      <td>NaN</td>\n",
       "    </tr>\n",
       "    <tr>\n",
       "      <th>5</th>\n",
       "      <td>2022-07-09 13:20:20</td>\n",
       "      <td>The player controls sometimes disappear for no...</td>\n",
       "      <td>3</td>\n",
       "      <td>7</td>\n",
       "      <td>NaN</td>\n",
       "    </tr>\n",
       "  </tbody>\n",
       "</table>\n",
       "</div>"
      ],
      "text/plain": [
       "       GönderilenZaman                                          Geridönüt  \\\n",
       "1  2022-07-09 14:21:22  Please ignore previous negative rating. This a...   \n",
       "2  2022-07-09 13:27:32  This pop-up \"Get the best Spotify experience o...   \n",
       "3  2022-07-09 13:26:45    Really buggy and terrible to use as of recently   \n",
       "4  2022-07-09 13:20:49  Dear Spotify why do I get songs that I didn't ...   \n",
       "5  2022-07-09 13:20:20  The player controls sometimes disappear for no...   \n",
       "\n",
       "   Puanlama  Toplam_begeni Yanıtlar  \n",
       "1         5              1      NaN  \n",
       "2         4              0      NaN  \n",
       "3         1              1      NaN  \n",
       "4         1              1      NaN  \n",
       "5         3              7      NaN  "
      ]
     },
     "execution_count": 144,
     "metadata": {},
     "output_type": "execute_result"
    }
   ],
   "source": [
    "vs.loc[1:5,\"GönderilenZaman\":\"Yanıtlar\"]"
   ]
  },
  {
   "cell_type": "code",
   "execution_count": 145,
   "id": "b0ceb24e",
   "metadata": {},
   "outputs": [
    {
     "data": {
      "text/plain": [
       "(61594, 5)"
      ]
     },
     "execution_count": 145,
     "metadata": {},
     "output_type": "execute_result"
    }
   ],
   "source": [
    "vs.shape\n"
   ]
  },
  {
   "cell_type": "code",
   "execution_count": 146,
   "id": "9dbc22b9",
   "metadata": {},
   "outputs": [
    {
     "data": {
      "text/html": [
       "<div>\n",
       "<style scoped>\n",
       "    .dataframe tbody tr th:only-of-type {\n",
       "        vertical-align: middle;\n",
       "    }\n",
       "\n",
       "    .dataframe tbody tr th {\n",
       "        vertical-align: top;\n",
       "    }\n",
       "\n",
       "    .dataframe thead th {\n",
       "        text-align: right;\n",
       "    }\n",
       "</style>\n",
       "<table border=\"1\" class=\"dataframe\">\n",
       "  <thead>\n",
       "    <tr style=\"text-align: right;\">\n",
       "      <th></th>\n",
       "      <th>GönderilenZaman</th>\n",
       "      <th>Geridönüt</th>\n",
       "      <th>Puanlama</th>\n",
       "      <th>Toplam_begeni</th>\n",
       "      <th>Yanıtlar</th>\n",
       "    </tr>\n",
       "  </thead>\n",
       "  <tbody>\n",
       "    <tr>\n",
       "      <th>0</th>\n",
       "      <td>2022-07-09 15:00:00</td>\n",
       "      <td>Great music service, the audio is high quality...</td>\n",
       "      <td>5</td>\n",
       "      <td>2</td>\n",
       "      <td>NaN</td>\n",
       "    </tr>\n",
       "    <tr>\n",
       "      <th>1</th>\n",
       "      <td>2022-07-09 14:21:22</td>\n",
       "      <td>Please ignore previous negative rating. This a...</td>\n",
       "      <td>5</td>\n",
       "      <td>1</td>\n",
       "      <td>NaN</td>\n",
       "    </tr>\n",
       "    <tr>\n",
       "      <th>2</th>\n",
       "      <td>2022-07-09 13:27:32</td>\n",
       "      <td>This pop-up \"Get the best Spotify experience o...</td>\n",
       "      <td>4</td>\n",
       "      <td>0</td>\n",
       "      <td>NaN</td>\n",
       "    </tr>\n",
       "    <tr>\n",
       "      <th>3</th>\n",
       "      <td>2022-07-09 13:26:45</td>\n",
       "      <td>Really buggy and terrible to use as of recently</td>\n",
       "      <td>1</td>\n",
       "      <td>1</td>\n",
       "      <td>NaN</td>\n",
       "    </tr>\n",
       "    <tr>\n",
       "      <th>4</th>\n",
       "      <td>2022-07-09 13:20:49</td>\n",
       "      <td>Dear Spotify why do I get songs that I didn't ...</td>\n",
       "      <td>1</td>\n",
       "      <td>1</td>\n",
       "      <td>NaN</td>\n",
       "    </tr>\n",
       "    <tr>\n",
       "      <th>...</th>\n",
       "      <td>...</td>\n",
       "      <td>...</td>\n",
       "      <td>...</td>\n",
       "      <td>...</td>\n",
       "      <td>...</td>\n",
       "    </tr>\n",
       "    <tr>\n",
       "      <th>61589</th>\n",
       "      <td>2022-01-01 03:01:29</td>\n",
       "      <td>Even though it was communicated that lyrics fe...</td>\n",
       "      <td>1</td>\n",
       "      <td>6</td>\n",
       "      <td>NaN</td>\n",
       "    </tr>\n",
       "    <tr>\n",
       "      <th>61590</th>\n",
       "      <td>2022-01-01 02:13:40</td>\n",
       "      <td>Use to be sooo good back when I had it, and wh...</td>\n",
       "      <td>1</td>\n",
       "      <td>0</td>\n",
       "      <td>NaN</td>\n",
       "    </tr>\n",
       "    <tr>\n",
       "      <th>61591</th>\n",
       "      <td>2022-01-01 01:02:29</td>\n",
       "      <td>This app would be good if not for it taking ov...</td>\n",
       "      <td>2</td>\n",
       "      <td>10</td>\n",
       "      <td>NaN</td>\n",
       "    </tr>\n",
       "    <tr>\n",
       "      <th>61592</th>\n",
       "      <td>2022-01-01 00:49:23</td>\n",
       "      <td>The app is good hard to navigate and won't jus...</td>\n",
       "      <td>2</td>\n",
       "      <td>1</td>\n",
       "      <td>NaN</td>\n",
       "    </tr>\n",
       "    <tr>\n",
       "      <th>61593</th>\n",
       "      <td>2022-01-01 00:19:09</td>\n",
       "      <td>Its good but sometimes it doesnt load the musi...</td>\n",
       "      <td>4</td>\n",
       "      <td>0</td>\n",
       "      <td>NaN</td>\n",
       "    </tr>\n",
       "  </tbody>\n",
       "</table>\n",
       "<p>61594 rows × 5 columns</p>\n",
       "</div>"
      ],
      "text/plain": [
       "           GönderilenZaman                                          Geridönüt  \\\n",
       "0      2022-07-09 15:00:00  Great music service, the audio is high quality...   \n",
       "1      2022-07-09 14:21:22  Please ignore previous negative rating. This a...   \n",
       "2      2022-07-09 13:27:32  This pop-up \"Get the best Spotify experience o...   \n",
       "3      2022-07-09 13:26:45    Really buggy and terrible to use as of recently   \n",
       "4      2022-07-09 13:20:49  Dear Spotify why do I get songs that I didn't ...   \n",
       "...                    ...                                                ...   \n",
       "61589  2022-01-01 03:01:29  Even though it was communicated that lyrics fe...   \n",
       "61590  2022-01-01 02:13:40  Use to be sooo good back when I had it, and wh...   \n",
       "61591  2022-01-01 01:02:29  This app would be good if not for it taking ov...   \n",
       "61592  2022-01-01 00:49:23  The app is good hard to navigate and won't jus...   \n",
       "61593  2022-01-01 00:19:09  Its good but sometimes it doesnt load the musi...   \n",
       "\n",
       "       Puanlama  Toplam_begeni Yanıtlar  \n",
       "0             5              2      NaN  \n",
       "1             5              1      NaN  \n",
       "2             4              0      NaN  \n",
       "3             1              1      NaN  \n",
       "4             1              1      NaN  \n",
       "...         ...            ...      ...  \n",
       "61589         1              6      NaN  \n",
       "61590         1              0      NaN  \n",
       "61591         2             10      NaN  \n",
       "61592         2              1      NaN  \n",
       "61593         4              0      NaN  \n",
       "\n",
       "[61594 rows x 5 columns]"
      ]
     },
     "execution_count": 146,
     "metadata": {},
     "output_type": "execute_result"
    }
   ],
   "source": [
    "vs.dropna(axis=\"columns\",how=\"all\")"
   ]
  },
  {
   "cell_type": "code",
   "execution_count": 147,
   "id": "2afb4673",
   "metadata": {},
   "outputs": [
    {
     "data": {
      "text/plain": [
       "(61594, 5)"
      ]
     },
     "execution_count": 147,
     "metadata": {},
     "output_type": "execute_result"
    }
   ],
   "source": [
    "vs.dropna(axis=\"columns\",how=\"all\").shape #sütun sayısı değişmedi eksik veri olmadığını anlıyoruz"
   ]
  },
  {
   "cell_type": "code",
   "execution_count": 148,
   "id": "4491c1e8",
   "metadata": {},
   "outputs": [
    {
     "data": {
      "text/plain": [
       "(61594, 4)"
      ]
     },
     "execution_count": 148,
     "metadata": {},
     "output_type": "execute_result"
    }
   ],
   "source": [
    "vs.dropna(axis=\"columns\",how=\"any\").shape #all yerine any yazarsak herhangi bir sütunda 1 tane eksik veri varsa o sütun silinir"
   ]
  },
  {
   "cell_type": "code",
   "execution_count": 149,
   "id": "0cfe8e4e",
   "metadata": {},
   "outputs": [
    {
     "data": {
      "text/plain": [
       "5    22095\n",
       "1    17653\n",
       "4     7842\n",
       "2     7118\n",
       "3     6886\n",
       "Name: Puanlama, dtype: int64"
      ]
     },
     "execution_count": 149,
     "metadata": {},
     "output_type": "execute_result"
    }
   ],
   "source": [
    "vs.Puanlama.value_counts() #PUANLAMA olarak 5 puan üzerinden hangisinden kaçar tane puan verilmiş onu analiz ediyoruz"
   ]
  },
  {
   "cell_type": "code",
   "execution_count": 150,
   "id": "35bd7aeb",
   "metadata": {},
   "outputs": [],
   "source": [
    "#En fazla sayıda verilen puanlamanın 5 puan olduğu yukarıda gözüktüğü gibidir."
   ]
  },
  {
   "cell_type": "code",
   "execution_count": 151,
   "id": "83d8f644",
   "metadata": {},
   "outputs": [
    {
     "data": {
      "text/plain": [
       "Amazing music app                                                                                                                                                                                                                                                                                                                                                                                                                                                                                                 9\n",
       "Great music selection                                                                                                                                                                                                                                                                                                                                                                                                                                                                                             8\n",
       "Very good music app                                                                                                                                                                                                                                                                                                                                                                                                                                                                                               7\n",
       "Good sound quality                                                                                                                                                                                                                                                                                                                                                                                                                                                                                                6\n",
       "Too many ads                                                                                                                                                                                                                                                                                                                                                                                                                                                                                                      5\n",
       "                                                                                                                                                                                                                                                                                                                                                                                                                                                                                                                 ..\n",
       "Very good app easy to use and has some ads                                                                                                                                                                                                                                                                                                                                                                                                                                                                        1\n",
       "amazing fabulous excellent Spotify relax me and my mind very nice fabulous app                                                                                                                                                                                                                                                                                                                                                                                                                                    1\n",
       "This app is really at a good position for music. Keep this process going! And please make updates. I have a small problem.. Well.. When I save a song in my playlist it doesn't go there. This is what my problem was so I started to use it from the liked songs menu. But I highly recommend this app for your chill, moody or any songs you like. With head phones it has the best quality to listen. overall I rate it a 5 star. I hope this reaches over a trillion downloads! Thank you for your time! 😁    1\n",
       "I love Spotify but I hate ads                                                                                                                                                                                                                                                                                                                                                                                                                                                                                     1\n",
       "It selects music based on your taste makes best \"mix tape\" which makes things easier. Thank you for your effort and dedication on this app                                                                                                                                                                                                                                                                                                                                                                        1\n",
       "Name: Geridönüt, Length: 21950, dtype: int64"
      ]
     },
     "execution_count": 151,
     "metadata": {},
     "output_type": "execute_result"
    }
   ],
   "source": [
    "vs[vs.Puanlama==5].Geridönüt.value_counts() #5 puan verenlerin Geridönütlerinin ne oldukları gözüktüğü gibidir."
   ]
  },
  {
   "cell_type": "code",
   "execution_count": 152,
   "id": "c9ff55d3",
   "metadata": {},
   "outputs": [],
   "source": [
    "#5 puan vermiş kullanıcıların geridönütlerinin beğeni sayılarını ele alalım"
   ]
  },
  {
   "cell_type": "code",
   "execution_count": 156,
   "id": "61f4a0ff",
   "metadata": {},
   "outputs": [
    {
     "data": {
      "text/plain": [
       "0        2022\n",
       "1        2022\n",
       "2        2022\n",
       "3        2022\n",
       "4        2022\n",
       "         ... \n",
       "61589    2022\n",
       "61590    2022\n",
       "61591    2022\n",
       "61592    2022\n",
       "61593    2022\n",
       "Name: GönderilenZaman, Length: 61594, dtype: object"
      ]
     },
     "execution_count": 156,
     "metadata": {},
     "output_type": "execute_result"
    }
   ],
   "source": [
    "vs.GönderilenZaman.str.slice(0,4) #Hangi satırdaki yorumun hangi tarihte yapıldığına dair yılları aldığımız kısım."
   ]
  },
  {
   "cell_type": "code",
   "execution_count": 41,
   "id": "fa1f0973",
   "metadata": {},
   "outputs": [
    {
     "data": {
      "text/plain": [
       "2022    61594\n",
       "Name: GönderilenZaman, dtype: int64"
      ]
     },
     "execution_count": 41,
     "metadata": {},
     "output_type": "execute_result"
    }
   ],
   "source": [
    "vs.GönderilenZaman.str.slice(0,4).value_counts() #hangi tarihteki yorumların kaç tane olduğunun toplam sayısını görüntüleme."
   ]
  },
  {
   "cell_type": "code",
   "execution_count": 157,
   "id": "55fffa96",
   "metadata": {},
   "outputs": [
    {
     "data": {
      "text/plain": [
       "GönderilenZaman    object\n",
       "Geridönüt          object\n",
       "Puanlama            int64\n",
       "Toplam_begeni       int64\n",
       "Yanıtlar           object\n",
       "dtype: object"
      ]
     },
     "execution_count": 157,
     "metadata": {},
     "output_type": "execute_result"
    }
   ],
   "source": [
    "vs.dtypes #datatiplerini gösterme komutu"
   ]
  },
  {
   "cell_type": "code",
   "execution_count": 43,
   "id": "45775512",
   "metadata": {},
   "outputs": [],
   "source": [
    "vs[\"GönderilenZaman\"]=pd.to_datetime(vs.GönderilenZaman) #GönderilenZaman sütunumun değişken tipini datetime olarak değiştiriyorum"
   ]
  },
  {
   "cell_type": "code",
   "execution_count": 44,
   "id": "686e83bd",
   "metadata": {},
   "outputs": [
    {
     "data": {
      "text/plain": [
       "GönderilenZaman    datetime64[ns]\n",
       "Geridönüt                  object\n",
       "Puanlama                    int64\n",
       "Toplam_begeni               int64\n",
       "Yanıtlar                   object\n",
       "dtype: object"
      ]
     },
     "execution_count": 44,
     "metadata": {},
     "output_type": "execute_result"
    }
   ],
   "source": [
    "vs.dtypes #değişken tiplerini görüntülüyoruz "
   ]
  },
  {
   "cell_type": "code",
   "execution_count": 45,
   "id": "fa47bec2",
   "metadata": {},
   "outputs": [
    {
     "data": {
      "text/plain": [
       "0        2022\n",
       "1        2022\n",
       "2        2022\n",
       "3        2022\n",
       "4        2022\n",
       "         ... \n",
       "61589    2022\n",
       "61590    2022\n",
       "61591    2022\n",
       "61592    2022\n",
       "61593    2022\n",
       "Name: GönderilenZaman, Length: 61594, dtype: int64"
      ]
     },
     "execution_count": 45,
     "metadata": {},
     "output_type": "execute_result"
    }
   ],
   "source": [
    "vs.GönderilenZaman.dt.year #değişkenimizi datetime yaptığımız için dt.year koduyla yıllara ulaşabiliyoruz."
   ]
  },
  {
   "cell_type": "code",
   "execution_count": 46,
   "id": "43338bc5",
   "metadata": {},
   "outputs": [
    {
     "data": {
      "text/plain": [
       "0        7\n",
       "1        7\n",
       "2        7\n",
       "3        7\n",
       "4        7\n",
       "        ..\n",
       "61589    1\n",
       "61590    1\n",
       "61591    1\n",
       "61592    1\n",
       "61593    1\n",
       "Name: GönderilenZaman, Length: 61594, dtype: int64"
      ]
     },
     "execution_count": 46,
     "metadata": {},
     "output_type": "execute_result"
    }
   ],
   "source": [
    "vs.GönderilenZaman.dt.month #değişkenimizi datetime yaptığımız için dt.month koduyla aylara ulaşabiliyoruz"
   ]
  },
  {
   "cell_type": "code",
   "execution_count": 48,
   "id": "4c1c06ec",
   "metadata": {},
   "outputs": [
    {
     "data": {
      "text/plain": [
       "0       42112\n",
       "1        8360\n",
       "2        2968\n",
       "3        1392\n",
       "4         871\n",
       "        ...  \n",
       "4550        1\n",
       "4791        1\n",
       "713         1\n",
       "1297        1\n",
       "136         1\n",
       "Name: Toplam_begeni, Length: 532, dtype: int64"
      ]
     },
     "execution_count": 48,
     "metadata": {},
     "output_type": "execute_result"
    }
   ],
   "source": [
    "vs.Toplam_begeni.value_counts() #Toplam begeni alındığındaki toplam like sayısı"
   ]
  },
  {
   "cell_type": "code",
   "execution_count": 159,
   "id": "f5e11d4f",
   "metadata": {},
   "outputs": [
    {
     "data": {
      "text/plain": [
       "7.649381433256486"
      ]
     },
     "execution_count": 159,
     "metadata": {},
     "output_type": "execute_result"
    }
   ],
   "source": [
    "vs.Toplam_begeni.mean() #Toplambegeni yüzdesini alma durumu"
   ]
  },
  {
   "cell_type": "code",
   "execution_count": 50,
   "id": "b6a1d0a0",
   "metadata": {},
   "outputs": [
    {
     "data": {
      "text/plain": [
       "GönderilenZaman\n",
       "0      5.480966\n",
       "1      7.484000\n",
       "2      9.374297\n",
       "3      7.274706\n",
       "4      7.737656\n",
       "5      8.987698\n",
       "6      8.182106\n",
       "7      9.706654\n",
       "8     11.192326\n",
       "9      8.470015\n",
       "10     8.517833\n",
       "11     6.645014\n",
       "12     6.427363\n",
       "13     6.992852\n",
       "14    10.629987\n",
       "15     8.793189\n",
       "16     4.999695\n",
       "17     5.278981\n",
       "18     8.211234\n",
       "19     8.363393\n",
       "20     8.652353\n",
       "21     5.140644\n",
       "22     5.796882\n",
       "23     6.051101\n",
       "Name: Toplam_begeni, dtype: float64"
      ]
     },
     "execution_count": 50,
     "metadata": {},
     "output_type": "execute_result"
    }
   ],
   "source": [
    "vs.groupby(vs.GönderilenZaman.dt.hour).Toplam_begeni.mean() #gün içerisindeki saatlere göre ortalama begeni sayyısını alma"
   ]
  },
  {
   "cell_type": "code",
   "execution_count": 51,
   "id": "27587144",
   "metadata": {},
   "outputs": [
    {
     "name": "stdout",
     "output_type": "stream",
     "text": [
      "Requirement already satisfied: matplotlib in c:\\users\\batuhan aslan\\appdata\\local\\programs\\python\\python310\\lib\\site-packages (3.5.2)\n",
      "Requirement already satisfied: fonttools>=4.22.0 in c:\\users\\batuhan aslan\\appdata\\local\\programs\\python\\python310\\lib\\site-packages (from matplotlib) (4.34.4)\n",
      "Requirement already satisfied: cycler>=0.10 in c:\\users\\batuhan aslan\\appdata\\local\\programs\\python\\python310\\lib\\site-packages (from matplotlib) (0.11.0)\n",
      "Requirement already satisfied: numpy>=1.17 in c:\\users\\batuhan aslan\\appdata\\local\\programs\\python\\python310\\lib\\site-packages (from matplotlib) (1.23.1)\n",
      "Requirement already satisfied: packaging>=20.0 in c:\\users\\batuhan aslan\\appdata\\local\\programs\\python\\python310\\lib\\site-packages (from matplotlib) (21.3)\n",
      "Requirement already satisfied: kiwisolver>=1.0.1 in c:\\users\\batuhan aslan\\appdata\\local\\programs\\python\\python310\\lib\\site-packages (from matplotlib) (1.4.4)\n",
      "Requirement already satisfied: pillow>=6.2.0 in c:\\users\\batuhan aslan\\appdata\\local\\programs\\python\\python310\\lib\\site-packages (from matplotlib) (9.2.0)\n",
      "Requirement already satisfied: pyparsing>=2.2.1 in c:\\users\\batuhan aslan\\appdata\\local\\programs\\python\\python310\\lib\\site-packages (from matplotlib) (3.0.9)\n",
      "Requirement already satisfied: python-dateutil>=2.7 in c:\\users\\batuhan aslan\\appdata\\local\\programs\\python\\python310\\lib\\site-packages (from matplotlib) (2.8.2)\n",
      "Requirement already satisfied: six>=1.5 in c:\\users\\batuhan aslan\\appdata\\local\\programs\\python\\python310\\lib\\site-packages (from python-dateutil>=2.7->matplotlib) (1.16.0)\n"
     ]
    }
   ],
   "source": [
    "!pip install matplotlib"
   ]
  },
  {
   "cell_type": "code",
   "execution_count": 54,
   "id": "3e77456f",
   "metadata": {},
   "outputs": [],
   "source": [
    "import matplotlib #matplotlib kütüphnesini import ediyoruz"
   ]
  },
  {
   "cell_type": "code",
   "execution_count": null,
   "id": "ddf08d2c",
   "metadata": {},
   "outputs": [],
   "source": [
    "%matplotlib inline  #çizdireceğimiz grafiği satır içinde gösteriyoruz"
   ]
  },
  {
   "cell_type": "code",
   "execution_count": 58,
   "id": "a14c84c6",
   "metadata": {},
   "outputs": [
    {
     "data": {
      "text/plain": [
       "<AxesSubplot:xlabel='GönderilenZaman'>"
      ]
     },
     "execution_count": 58,
     "metadata": {},
     "output_type": "execute_result"
    },
    {
     "data": {
      "image/png": "[encoded data removed]",
      "text/plain": [
       "<Figure size 432x288 with 1 Axes>"
      ]
     },
     "metadata": {
      "needs_background": "light"
     },
     "output_type": "display_data"
    }
   ],
   "source": [
    "vs.groupby(vs.GönderilenZaman.dt.hour).Toplam_begeni.mean().plot() #plot fonksiyonunu kullanarak grafiğimizi çizdiriyoruz"
   ]
  }
 ],
 "metadata": {
  "kernelspec": {
   "display_name": "Python 3 (ipykernel)",
   "language": "python",
   "name": "python3"
  },
  "language_info": {
   "codemirror_mode": {
    "name": "ipython",
    "version": 3
   },
   "file_extension": ".py",
   "mimetype": "text/x-python",
   "name": "python",
   "nbconvert_exporter": "python",
   "pygments_lexer": "ipython3",
   "version": "3.10.5"
  }
 },
 "nbformat": 4,
 "nbformat_minor": 5
}
